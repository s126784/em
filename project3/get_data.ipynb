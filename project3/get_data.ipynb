{
 "cells": [
  {
   "cell_type": "code",
   "execution_count": 1,
   "metadata": {},
   "outputs": [
    {
     "name": "stdout",
     "output_type": "stream",
     "text": [
      "Collecting GEOparse\n",
      "  Downloading GEOparse-2.0.4-py3-none-any.whl.metadata (6.5 kB)\n",
      "Requirement already satisfied: pandas in /opt/miniconda3/envs/ds/lib/python3.12/site-packages (2.2.2)\n",
      "Requirement already satisfied: numpy in /opt/miniconda3/envs/ds/lib/python3.12/site-packages (1.26.4)\n",
      "Requirement already satisfied: scipy in /opt/miniconda3/envs/ds/lib/python3.12/site-packages (1.14.1)\n",
      "Requirement already satisfied: requests>=2.21.0 in /opt/miniconda3/envs/ds/lib/python3.12/site-packages (from GEOparse) (2.32.3)\n",
      "Requirement already satisfied: tqdm>=4.31.1 in /opt/miniconda3/envs/ds/lib/python3.12/site-packages (from GEOparse) (4.67.0)\n",
      "Requirement already satisfied: python-dateutil>=2.8.2 in /opt/miniconda3/envs/ds/lib/python3.12/site-packages (from pandas) (2.9.0.post0)\n",
      "Requirement already satisfied: pytz>=2020.1 in /opt/miniconda3/envs/ds/lib/python3.12/site-packages (from pandas) (2024.1)\n",
      "Requirement already satisfied: tzdata>=2022.7 in /opt/miniconda3/envs/ds/lib/python3.12/site-packages (from pandas) (2023.3)\n",
      "Requirement already satisfied: six>=1.5 in /opt/miniconda3/envs/ds/lib/python3.12/site-packages (from python-dateutil>=2.8.2->pandas) (1.16.0)\n",
      "Requirement already satisfied: charset-normalizer<4,>=2 in /opt/miniconda3/envs/ds/lib/python3.12/site-packages (from requests>=2.21.0->GEOparse) (3.4.0)\n",
      "Requirement already satisfied: idna<4,>=2.5 in /opt/miniconda3/envs/ds/lib/python3.12/site-packages (from requests>=2.21.0->GEOparse) (3.7)\n",
      "Requirement already satisfied: urllib3<3,>=1.21.1 in /opt/miniconda3/envs/ds/lib/python3.12/site-packages (from requests>=2.21.0->GEOparse) (2.2.3)\n",
      "Requirement already satisfied: certifi>=2017.4.17 in /opt/miniconda3/envs/ds/lib/python3.12/site-packages (from requests>=2.21.0->GEOparse) (2024.8.30)\n",
      "Downloading GEOparse-2.0.4-py3-none-any.whl (29 kB)\n",
      "Installing collected packages: GEOparse\n",
      "Successfully installed GEOparse-2.0.4\n",
      "Note: you may need to restart the kernel to use updated packages.\n"
     ]
    }
   ],
   "source": [
    "# Install required packages\n",
    "%pip install GEOparse pandas numpy scipy\n"
   ]
  },
  {
   "cell_type": "code",
   "execution_count": null,
   "metadata": {},
   "outputs": [
    {
     "ename": "AttributeError",
     "evalue": "module 'scanpy.datasets' has no attribute 'pbmc68k'",
     "output_type": "error",
     "traceback": [
      "\u001b[0;31m---------------------------------------------------------------------------\u001b[0m",
      "\u001b[0;31mAttributeError\u001b[0m                            Traceback (most recent call last)",
      "Cell \u001b[0;32mIn[10], line 7\u001b[0m\n\u001b[1;32m      4\u001b[0m \u001b[38;5;28;01mimport\u001b[39;00m \u001b[38;5;21;01mnumpy\u001b[39;00m \u001b[38;5;28;01mas\u001b[39;00m \u001b[38;5;21;01mnp\u001b[39;00m\n\u001b[1;32m      6\u001b[0m \u001b[38;5;66;03m# Load example brain dataset\u001b[39;00m\n\u001b[0;32m----> 7\u001b[0m adata \u001b[38;5;241m=\u001b[39m sc\u001b[38;5;241m.\u001b[39mdatasets\u001b[38;5;241m.\u001b[39mpbmc68k()\n\u001b[1;32m      9\u001b[0m \u001b[38;5;66;03m# Basic preprocessing steps\u001b[39;00m\n\u001b[1;32m     10\u001b[0m sc\u001b[38;5;241m.\u001b[39mpp\u001b[38;5;241m.\u001b[39mfilter_cells(adata, min_genes\u001b[38;5;241m=\u001b[39m\u001b[38;5;241m200\u001b[39m)\n",
      "\u001b[0;31mAttributeError\u001b[0m: module 'scanpy.datasets' has no attribute 'pbmc68k'"
     ]
    }
   ],
   "source": [
    "# Import required packages\n",
    "import scanpy as sc\n",
    "import pandas as pd\n",
    "import numpy as np\n",
    "\n",
    "# Load example brain dataset\n",
    "adata = sc.datasets.pbmc68k_reduced()\n",
    "\n",
    "# Basic preprocessing steps\n",
    "sc.pp.filter_cells(adata, min_genes=200)\n",
    "sc.pp.filter_genes(adata, min_cells=3)\n",
    "\n",
    "# Normalize data\n",
    "sc.pp.normalize_total(adata, target_sum=1e4)\n",
    "sc.pp.log1p(adata)\n",
    "\n",
    "# Convert to pandas DataFrame - removed .toarray() since X is already an array\n",
    "expression_df = pd.DataFrame(adata.X,\n",
    "                           columns=adata.var_names,\n",
    "                           index=adata.obs_names)\n",
    "\n",
    "# Add cell type labels as a column\n",
    "expression_df['cell_type'] = adata.obs['louvain']\n",
    "\n",
    "# Save basic info\n",
    "print(\"Dataset dimensions:\", expression_df.shape)\n",
    "print(\"\\nNumber of cell types:\", len(expression_df['cell_type'].unique()))\n",
    "print(\"\\nCell type distribution:\\n\", expression_df['cell_type'].value_counts())\n",
    "\n",
    "# Save to CSV\n",
    "expression_df.to_csv('pbmc68k_reduced.csv', index=True)"
   ]
  }
 ],
 "metadata": {
  "kernelspec": {
   "display_name": "ds",
   "language": "python",
   "name": "python3"
  },
  "language_info": {
   "codemirror_mode": {
    "name": "ipython",
    "version": 3
   },
   "file_extension": ".py",
   "mimetype": "text/x-python",
   "name": "python",
   "nbconvert_exporter": "python",
   "pygments_lexer": "ipython3",
   "version": "3.12.7"
  }
 },
 "nbformat": 4,
 "nbformat_minor": 2
}
