{
 "cells": [
  {
   "cell_type": "code",
   "execution_count": 2,
   "metadata": {},
   "outputs": [
    {
     "name": "stdout",
     "output_type": "stream",
     "text": [
      "Collecting scanpy\n",
      "  Downloading scanpy-1.10.4-py3-none-any.whl.metadata (9.3 kB)\n",
      "Collecting anndata>=0.8 (from scanpy)\n",
      "  Downloading anndata-0.11.1-py3-none-any.whl.metadata (8.2 kB)\n",
      "Collecting h5py>=3.6 (from scanpy)\n",
      "  Downloading h5py-3.12.1-cp312-cp312-macosx_11_0_arm64.whl.metadata (2.5 kB)\n",
      "Requirement already satisfied: joblib in /opt/miniconda3/envs/ds/lib/python3.12/site-packages (from scanpy) (1.4.2)\n",
      "Collecting legacy-api-wrap>=1.4 (from scanpy)\n",
      "  Downloading legacy_api_wrap-1.4.1-py3-none-any.whl.metadata (2.1 kB)\n",
      "Requirement already satisfied: matplotlib>=3.6 in /opt/miniconda3/envs/ds/lib/python3.12/site-packages (from scanpy) (3.9.2)\n",
      "Collecting natsort (from scanpy)\n",
      "  Downloading natsort-8.4.0-py3-none-any.whl.metadata (21 kB)\n",
      "Requirement already satisfied: networkx>=2.7 in /opt/miniconda3/envs/ds/lib/python3.12/site-packages (from scanpy) (3.3)\n",
      "Collecting numba>=0.56 (from scanpy)\n",
      "  Downloading numba-0.60.0-cp312-cp312-macosx_11_0_arm64.whl.metadata (2.7 kB)\n",
      "Requirement already satisfied: numpy>=1.23 in /opt/miniconda3/envs/ds/lib/python3.12/site-packages (from scanpy) (1.26.4)\n",
      "Requirement already satisfied: packaging>=21.3 in /opt/miniconda3/envs/ds/lib/python3.12/site-packages (from scanpy) (24.1)\n",
      "Requirement already satisfied: pandas>=1.5 in /opt/miniconda3/envs/ds/lib/python3.12/site-packages (from scanpy) (2.2.2)\n",
      "Requirement already satisfied: patsy!=1.0.0 in /opt/miniconda3/envs/ds/lib/python3.12/site-packages (from scanpy) (0.5.6)\n",
      "Collecting pynndescent>=0.5 (from scanpy)\n",
      "  Downloading pynndescent-0.5.13-py3-none-any.whl.metadata (6.8 kB)\n",
      "Requirement already satisfied: scikit-learn>=1.1 in /opt/miniconda3/envs/ds/lib/python3.12/site-packages (from scanpy) (1.5.1)\n",
      "Requirement already satisfied: scipy>=1.8 in /opt/miniconda3/envs/ds/lib/python3.12/site-packages (from scanpy) (1.14.1)\n",
      "Requirement already satisfied: seaborn>=0.13 in /opt/miniconda3/envs/ds/lib/python3.12/site-packages (from scanpy) (0.13.2)\n",
      "Collecting session-info (from scanpy)\n",
      "  Downloading session_info-1.0.0.tar.gz (24 kB)\n",
      "  Preparing metadata (setup.py) ... \u001b[?25ldone\n",
      "\u001b[?25hRequirement already satisfied: statsmodels>=0.13 in /opt/miniconda3/envs/ds/lib/python3.12/site-packages (from scanpy) (0.14.2)\n",
      "Requirement already satisfied: tqdm in /opt/miniconda3/envs/ds/lib/python3.12/site-packages (from scanpy) (4.67.0)\n",
      "Collecting umap-learn!=0.5.0,>=0.5 (from scanpy)\n",
      "  Downloading umap_learn-0.5.7-py3-none-any.whl.metadata (21 kB)\n",
      "Collecting array-api-compat!=1.5,>1.4 (from anndata>=0.8->scanpy)\n",
      "  Downloading array_api_compat-1.9.1-py3-none-any.whl.metadata (1.6 kB)\n",
      "Requirement already satisfied: contourpy>=1.0.1 in /opt/miniconda3/envs/ds/lib/python3.12/site-packages (from matplotlib>=3.6->scanpy) (1.2.0)\n",
      "Requirement already satisfied: cycler>=0.10 in /opt/miniconda3/envs/ds/lib/python3.12/site-packages (from matplotlib>=3.6->scanpy) (0.11.0)\n",
      "Requirement already satisfied: fonttools>=4.22.0 in /opt/miniconda3/envs/ds/lib/python3.12/site-packages (from matplotlib>=3.6->scanpy) (4.51.0)\n",
      "Requirement already satisfied: kiwisolver>=1.3.1 in /opt/miniconda3/envs/ds/lib/python3.12/site-packages (from matplotlib>=3.6->scanpy) (1.4.4)\n",
      "Requirement already satisfied: pillow>=8 in /opt/miniconda3/envs/ds/lib/python3.12/site-packages (from matplotlib>=3.6->scanpy) (11.0.0)\n",
      "Requirement already satisfied: pyparsing>=2.3.1 in /opt/miniconda3/envs/ds/lib/python3.12/site-packages (from matplotlib>=3.6->scanpy) (3.2.0)\n",
      "Requirement already satisfied: python-dateutil>=2.7 in /opt/miniconda3/envs/ds/lib/python3.12/site-packages (from matplotlib>=3.6->scanpy) (2.9.0.post0)\n",
      "Collecting llvmlite<0.44,>=0.43.0dev0 (from numba>=0.56->scanpy)\n",
      "  Downloading llvmlite-0.43.0-cp312-cp312-macosx_11_0_arm64.whl.metadata (4.8 kB)\n",
      "Requirement already satisfied: pytz>=2020.1 in /opt/miniconda3/envs/ds/lib/python3.12/site-packages (from pandas>=1.5->scanpy) (2024.1)\n",
      "Requirement already satisfied: tzdata>=2022.7 in /opt/miniconda3/envs/ds/lib/python3.12/site-packages (from pandas>=1.5->scanpy) (2023.3)\n",
      "Requirement already satisfied: six in /opt/miniconda3/envs/ds/lib/python3.12/site-packages (from patsy!=1.0.0->scanpy) (1.16.0)\n",
      "Requirement already satisfied: threadpoolctl>=3.1.0 in /opt/miniconda3/envs/ds/lib/python3.12/site-packages (from scikit-learn>=1.1->scanpy) (3.5.0)\n",
      "Collecting stdlib_list (from session-info->scanpy)\n",
      "  Downloading stdlib_list-0.11.0-py3-none-any.whl.metadata (3.3 kB)\n",
      "Downloading scanpy-1.10.4-py3-none-any.whl (2.1 MB)\n",
      "\u001b[2K   \u001b[90m━━━━━━━━━━━━━━━━━━━━━━━━━━━━━━━━━━━━━━━━\u001b[0m \u001b[32m2.1/2.1 MB\u001b[0m \u001b[31m14.4 MB/s\u001b[0m eta \u001b[36m0:00:00\u001b[0m\n",
      "\u001b[?25hDownloading anndata-0.11.1-py3-none-any.whl (141 kB)\n",
      "Downloading h5py-3.12.1-cp312-cp312-macosx_11_0_arm64.whl (2.9 MB)\n",
      "\u001b[2K   \u001b[90m━━━━━━━━━━━━━━━━━━━━━━━━━━━━━━━━━━━━━━━━\u001b[0m \u001b[32m2.9/2.9 MB\u001b[0m \u001b[31m13.2 MB/s\u001b[0m eta \u001b[36m0:00:00\u001b[0ma \u001b[36m0:00:01\u001b[0m\n",
      "\u001b[?25hDownloading legacy_api_wrap-1.4.1-py3-none-any.whl (10.0 kB)\n",
      "Downloading numba-0.60.0-cp312-cp312-macosx_11_0_arm64.whl (2.7 MB)\n",
      "\u001b[2K   \u001b[90m━━━━━━━━━━━━━━━━━━━━━━━━━━━━━━━━━━━━━━━━\u001b[0m \u001b[32m2.7/2.7 MB\u001b[0m \u001b[31m15.0 MB/s\u001b[0m eta \u001b[36m0:00:00\u001b[0m\n",
      "\u001b[?25hDownloading pynndescent-0.5.13-py3-none-any.whl (56 kB)\n",
      "Downloading umap_learn-0.5.7-py3-none-any.whl (88 kB)\n",
      "Downloading natsort-8.4.0-py3-none-any.whl (38 kB)\n",
      "Downloading array_api_compat-1.9.1-py3-none-any.whl (50 kB)\n",
      "Downloading llvmlite-0.43.0-cp312-cp312-macosx_11_0_arm64.whl (28.8 MB)\n",
      "\u001b[2K   \u001b[90m━━━━━━━━━━━━━━━━━━━━━━━━━━━━━━━━━━━━━━━━\u001b[0m \u001b[32m28.8/28.8 MB\u001b[0m \u001b[31m17.7 MB/s\u001b[0m eta \u001b[36m0:00:00\u001b[0ma \u001b[36m0:00:01\u001b[0m\n",
      "\u001b[?25hDownloading stdlib_list-0.11.0-py3-none-any.whl (83 kB)\n",
      "Building wheels for collected packages: session-info\n",
      "  Building wheel for session-info (setup.py) ... \u001b[?25ldone\n",
      "\u001b[?25h  Created wheel for session-info: filename=session_info-1.0.0-py3-none-any.whl size=8023 sha256=a058cfde0e769f2f2af67ea61270e87fd894f99c272738e84fe6f40c6237dde0\n",
      "  Stored in directory: /Users/osolovei/Library/Caches/pip/wheels/23/da/7c/868424f4a5845ab58cd8686e0eb405e9e1e2d4152bf702c39d\n",
      "Successfully built session-info\n",
      "Installing collected packages: stdlib_list, natsort, llvmlite, legacy-api-wrap, h5py, array-api-compat, session-info, numba, pynndescent, anndata, umap-learn, scanpy\n",
      "Successfully installed anndata-0.11.1 array-api-compat-1.9.1 h5py-3.12.1 legacy-api-wrap-1.4.1 llvmlite-0.43.0 natsort-8.4.0 numba-0.60.0 pynndescent-0.5.13 scanpy-1.10.4 session-info-1.0.0 stdlib_list-0.11.0 umap-learn-0.5.7\n",
      "Note: you may need to restart the kernel to use updated packages.\n"
     ]
    }
   ],
   "source": [
    "%pip install scanpy"
   ]
  },
  {
   "cell_type": "code",
   "execution_count": null,
   "metadata": {},
   "outputs": [
    {
     "name": "stderr",
     "output_type": "stream",
     "text": [
      "/opt/miniconda3/envs/ds/lib/python3.12/site-packages/scanpy/preprocessing/_normalization.py:234: UserWarning: Some cells have zero counts\n",
      "  warn(UserWarning(\"Some cells have zero counts\"))\n",
      "/opt/miniconda3/envs/ds/lib/python3.12/site-packages/scanpy/preprocessing/_simple.py:383: RuntimeWarning: invalid value encountered in log1p\n",
      "  np.log1p(X, out=X)\n"
     ]
    },
    {
     "ename": "AttributeError",
     "evalue": "'numpy.ndarray' object has no attribute 'toarray'",
     "output_type": "error",
     "traceback": [
      "\u001b[0;31m---------------------------------------------------------------------------\u001b[0m",
      "\u001b[0;31mAttributeError\u001b[0m                            Traceback (most recent call last)",
      "Cell \u001b[0;32mIn[3], line 18\u001b[0m\n\u001b[1;32m     15\u001b[0m sc\u001b[38;5;241m.\u001b[39mpp\u001b[38;5;241m.\u001b[39mlog1p(adata)\n\u001b[1;32m     17\u001b[0m \u001b[38;5;66;03m# Convert to pandas DataFrame\u001b[39;00m\n\u001b[0;32m---> 18\u001b[0m expression_df \u001b[38;5;241m=\u001b[39m pd\u001b[38;5;241m.\u001b[39mDataFrame(adata\u001b[38;5;241m.\u001b[39mX\u001b[38;5;241m.\u001b[39mtoarray(),\n\u001b[1;32m     19\u001b[0m                            columns\u001b[38;5;241m=\u001b[39madata\u001b[38;5;241m.\u001b[39mvar_names,\n\u001b[1;32m     20\u001b[0m                            index\u001b[38;5;241m=\u001b[39madata\u001b[38;5;241m.\u001b[39mobs_names)\n\u001b[1;32m     22\u001b[0m \u001b[38;5;66;03m# Add cell type labels as a column\u001b[39;00m\n\u001b[1;32m     23\u001b[0m expression_df[\u001b[38;5;124m'\u001b[39m\u001b[38;5;124mcell_type\u001b[39m\u001b[38;5;124m'\u001b[39m] \u001b[38;5;241m=\u001b[39m adata\u001b[38;5;241m.\u001b[39mobs[\u001b[38;5;124m'\u001b[39m\u001b[38;5;124mlouvain\u001b[39m\u001b[38;5;124m'\u001b[39m]\n",
      "\u001b[0;31mAttributeError\u001b[0m: 'numpy.ndarray' object has no attribute 'toarray'"
     ]
    }
   ],
   "source": [
    "# Import required packages\n",
    "import scanpy as sc\n",
    "import pandas as pd\n",
    "import numpy as np\n",
    "\n",
    "# Load example brain dataset\n",
    "adata = sc.datasets.pbmc68k_reduced()\n",
    "\n",
    "# Basic preprocessing steps\n",
    "sc.pp.filter_cells(adata, min_genes=200)\n",
    "sc.pp.filter_genes(adata, min_cells=3)\n",
    "\n",
    "# Normalize data\n",
    "sc.pp.normalize_total(adata, target_sum=1e4)\n",
    "sc.pp.log1p(adata)\n",
    "\n",
    "# Convert to pandas DataFrame - removed .toarray() since X is already an array\n",
    "expression_df = pd.DataFrame(adata.X,\n",
    "                           columns=adata.var_names,\n",
    "                           index=adata.obs_names)\n",
    "\n",
    "# Add cell type labels as a column\n",
    "expression_df['cell_type'] = adata.obs['louvain']\n",
    "\n",
    "# Save basic info\n",
    "print(\"Dataset dimensions:\", expression_df.shape)\n",
    "print(\"\\nNumber of cell types:\", len(expression_df['cell_type'].unique()))\n",
    "print(\"\\nCell type distribution:\\n\", expression_df['cell_type'].value_counts())\n",
    "\n",
    "# Save to CSV\n",
    "expression_df.to_csv('brain_sc_expression.csv', index=True)\n",
    "\n",
    "# Optional: Save a smaller subset if the file is too large\n",
    "# Select top 2000 most variable genes\n",
    "gene_vars = expression_df.iloc[:, :-1].var()  # exclude cell_type column\n",
    "top_genes = gene_vars.nlargest(2000).index\n",
    "\n",
    "subset_df = expression_df[list(top_genes) + ['cell_type']]\n",
    "subset_df.to_csv('brain_sc_expression_subset.csv', index=True)"
   ]
  }
 ],
 "metadata": {
  "kernelspec": {
   "display_name": "ds",
   "language": "python",
   "name": "python3"
  },
  "language_info": {
   "codemirror_mode": {
    "name": "ipython",
    "version": 3
   },
   "file_extension": ".py",
   "mimetype": "text/x-python",
   "name": "python",
   "nbconvert_exporter": "python",
   "pygments_lexer": "ipython3",
   "version": "3.12.7"
  }
 },
 "nbformat": 4,
 "nbformat_minor": 2
}
